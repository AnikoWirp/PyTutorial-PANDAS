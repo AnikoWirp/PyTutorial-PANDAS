{
 "cells": [
  {
   "cell_type": "markdown",
   "metadata": {},
   "source": [
    "# Geopandas and Shapefiles\n",
    "\n",
    "by JN Hayek"
   ]
  },
  {
   "cell_type": "markdown",
   "metadata": {},
   "source": [
    "Here we can focus on the use of shapefiles through the tool of Geopandas.\n",
    "\n",
    "For this particular example we use the geological maps of Colombia."
   ]
  },
  {
   "cell_type": "code",
   "execution_count": 1,
   "metadata": {
    "ExecuteTime": {
     "end_time": "2020-10-23T08:42:35.639197Z",
     "start_time": "2020-10-23T08:42:34.540648Z"
    }
   },
   "outputs": [],
   "source": [
    "from shapely.geometry import shape, mapping, LineString, Polygon, Point\n",
    "from shapely.ops import split\n",
    "import shapely.speedups\n",
    "\n",
    "import pandas as pd\n",
    "import geopandas as gpd\n",
    "import numpy as np"
   ]
  },
  {
   "cell_type": "code",
   "execution_count": 2,
   "metadata": {
    "ExecuteTime": {
     "end_time": "2020-10-23T08:42:35.645846Z",
     "start_time": "2020-10-23T08:42:35.640623Z"
    }
   },
   "outputs": [],
   "source": [
    "# Create geodataframe from shapefile\n",
    "def loadSHPintoGeoDataFrame(SHPfilename,**kwargs):\n",
    "    gdf = gpd.read_file(SHPfilename)\n",
    "    print(gdf.crs) #sanity check\n",
    "    Input_CRS = kwargs.get(\"crs\",\"EPSG:4326\")\n",
    "    gdf = gdf.to_crs(Input_CRS) #Change projection to wgs84\n",
    "    return gdf\n",
    "\n",
    "# Create a new column on a geodataframe of the index from touching neighbors to ease processing\n",
    "def gdf_GetNeighborsRows(df):\n",
    "    shapely.speedups.enable() # Speed up spatial queries\n",
    "\n",
    "    df = df.assign(IDXneighbors = \"\")\n",
    "    for index, row in df.iterrows():  \n",
    "        neighbors = df[df.geometry.touches(row['geometry'])].index.tolist()\n",
    "        df.at[index, \"IDXneighbors\"] = neighbors\n",
    "    return df\n",
    "\n",
    "# Function to get the outside boundary of a polygon using shapely\n",
    "def GetPolygonExterior(RowFromGDF):\n",
    "    return shape(RowFromGDF['geometry']).boundary\n",
    "\n",
    "# Use a given dictionary to fill top and bottom ages in a new column\n",
    "def df_AgeEnrichment(df,FromColTop,FromColBottom,dictTop,dictBottom,ColumnAgeTop,ColumnAgeBottom):\n",
    "    df[ColumnAgeTop] = df[FromColTop].apply(lambda x: dictTop.get(x, 9999.0) )\n",
    "    df[ColumnAgeBottom] = df[FromColBottom].apply(lambda x: dictBottom.get(x, 9999.0))\n",
    "    return df\n"
   ]
  },
  {
   "cell_type": "code",
   "execution_count": 3,
   "metadata": {
    "ExecuteTime": {
     "end_time": "2020-10-23T08:42:35.661426Z",
     "start_time": "2020-10-23T08:42:35.647521Z"
    }
   },
   "outputs": [],
   "source": [
    "PathTemp='./../SampleData/Colombia/'\n",
    "shapefilename='Colombia.shp'\n",
    "GeologyPlace=\"Geology_Colombia\"\n",
    "RowAgeName=\"edad\"\n",
    "nameofScript=\"Colombia Hiatus Maps\""
   ]
  },
  {
   "cell_type": "code",
   "execution_count": 4,
   "metadata": {
    "ExecuteTime": {
     "end_time": "2020-10-23T08:42:35.679726Z",
     "start_time": "2020-10-23T08:42:35.664170Z"
    }
   },
   "outputs": [],
   "source": [
    "dict_min_age = {'Serravaliano-Tortoniano': 5, 'Cenomaniano-Maastrichtiano': 66, 'Oligoceno-Mioceno': 5, 'Turoniano-Maastrichtiano': 66, 'Jur?sico': 145, 'Berriasiano-Valanginiano': 100, 'Barremiano-Albiano': 100, 'Tortoniano-Mesiniano': 5, 'Maastrichtiano-Paleoceno': 56, 'Campaniano-Paleoceno': 56, 'Rupeliano-Langhiano': 5, 'Bartoniano-Chatiano': 23, 'Cret?cico Inferior': 100, 'Aquitaniano-Burdigaliano': 5, 'Pos-Tri?sico': 0, 'Campaniano-Maastrichtiano': 66, 'Lutetiano-Bartoniano': 34, 'Cenomaniano-Santoniano': 66, 'Valanginiano-Cenomaniano': 66, 'Barremiano-Cenomaniano': 66, 'Plioceno': 3, 'Aquitaniano?-Tortoniano?': 5, 'Valanginiano-Albiano': 100, 'Burdigaliano-Langhiano': 5, 'Valanginiano': 100, 'Albiano-Campaniano': 66, 'Eoceno-Aquitaniano': 5, 'Chatiano-Aquitaniano': 5, 'Barremiano?-Albiano': 100, 'Berriasiano': 100, 'Valanginiano-Aptiano': 100, 'Cenomaniano?-Campaniano': 66, 'Berriasiano?-Barremiano': 100, 'Oligoceno': 23, 'Rupeliano-Burdigaliano': 5, 'Langhiano-Serravaliano': 5, 'Mioceno': 5, 'Albiano-Maastrichtiano': 66, 'Jur?sico Superior': 145, 'Tri?sico?': 201, 'Mesiniano-Zancleano': 3, 'Paleoceno-Eoceno': 34, 'Cret?cico Superior': 66, 'Berriasiano-Cenomaniano': 66, 'Valanginiano-Campaniano': 66, 'Paleoceno': 56, 'Thanetiano-Ypresiano': 34, 'Bartoniano-Priaboniano': 34, 'Albiano-Cenomaniano?': 66, 'Tri?sico Superior': 201, 'Aptiano?-Maastrichtiano': 66, 'Aptiano-Cenomaniano': 66, 'Jur?sico Inferior-Jur?sico Medio': 164, 'Tri?sico': 201, 'Cenomaniano?-Campaniano?': 66, 'Albiano': 100, 'Bartoniano-Rupeliano': 34, 'Jur?sico Medio-Jur?sico Superior': 145, 'Jur?sico Inferior': 174, 'Albiano-Turoniano': 66, 'Maastrichtiano': 66, 'Langhiano-Tortoniano': 5, 'Serravaliano-Mesiniano': 5, 'Aptiano-Maastrichtiano': 66, 'Eoceno': 34, 'Albiano-Cenomaniano': 66, 'Albiano?-Cenomaniano': 66, 'Berriasiano-Aptiano': 100, 'Aptiano-Albiano': 100}\n",
    "dict_max_age = {'Serravaliano-Tortoniano': 23, 'Cenomaniano-Maastrichtiano': 100, 'Oligoceno-Mioceno': 34, 'Turoniano-Maastrichtiano': 100, 'Jur?sico': 201, 'Berriasiano-Valanginiano': 145, 'Barremiano-Albiano': 145, 'Tortoniano-Mesiniano': 23, 'Maastrichtiano-Paleoceno': 100, 'Campaniano-Paleoceno': 100, 'Rupeliano-Langhiano': 34, 'Bartoniano-Chatiano': 56, 'Plioceno-Pleistoceno': 5, 'Cret?cico Inferior': 145, 'Aquitaniano-Burdigaliano': 23, 'Pos-Tri?sico': 66, 'Campaniano-Maastrichtiano': 100, 'Lutetiano-Bartoniano': 56, 'Cenomaniano-Santoniano': 100, 'Valanginiano-Cenomaniano': 145, 'Barremiano-Cenomaniano': 145, 'Plioceno': 5, 'Aquitaniano?-Tortoniano?': 23, 'Cuaternario': 3, 'Valanginiano-Albiano': 145, 'Burdigaliano-Langhiano': 23, 'Valanginiano': 145, 'Albiano-Campaniano': 145, 'Eoceno-Aquitaniano': 56, 'Chatiano-Aquitaniano': 34, 'Barremiano?-Albiano': 145, 'Berriasiano': 145, 'Valanginiano-Aptiano': 145, 'Cenomaniano?-Campaniano': 100, 'Berriasiano?-Barremiano': 145, 'Oligoceno': 34, 'Rupeliano-Burdigaliano': 34, 'Langhiano-Serravaliano': 23, 'Mioceno': 23, 'Albiano-Maastrichtiano': 145, 'Jur?sico Superior': 164, 'Mesiniano-Zancleano': 23, 'Paleoceno-Eoceno': 66, 'Cret?cico Superior': 100, 'Berriasiano-Cenomaniano': 145, 'Valanginiano-Campaniano': 145, 'Paleoceno': 66, 'Thanetiano-Ypresiano': 66, 'Bartoniano-Priaboniano': 56, 'Albiano-Cenomaniano?': 145, 'Tri?sico Superior': 237, 'Aptiano?-Maastrichtiano': 145, 'Aptiano-Cenomaniano': 145, 'Jur?sico Inferior-Jur?sico Medio': 201, 'Cenomaniano?-Campaniano?': 100, 'Albiano': 145, 'Bartoniano-Rupeliano': 34, 'Jur?sico Medio-Jur?sico Superior': 174, 'Jur?sico Inferior': 201, 'Albiano-Turoniano': 145, 'Pleistoceno': 3, 'Maastrichtiano': 100, 'Langhiano-Tortoniano': 23, 'Serravaliano-Mesiniano': 23, 'Aptiano-Maastrichtiano': 145, 'Eoceno': 56, 'Albiano-Cenomaniano': 145, 'Albiano?-Cenomaniano': 145, 'Berriasiano-Aptiano': 145, 'Aptiano-Albiano': 145}"
   ]
  },
  {
   "cell_type": "code",
   "execution_count": 5,
   "metadata": {
    "ExecuteTime": {
     "end_time": "2020-10-23T08:42:36.643100Z",
     "start_time": "2020-10-23T08:42:35.681066Z"
    }
   },
   "outputs": [
    {
     "name": "stdout",
     "output_type": "stream",
     "text": [
      "epsg:4326\n"
     ]
    }
   ],
   "source": [
    "MapGDF = loadSHPintoGeoDataFrame(PathTemp+shapefilename) #load of shp map + reprojection to wgs84\n",
    "\n",
    "#Check if more than one column name. If 2 columns is the case, then first name is bottom, second is top\n",
    "if (isinstance(RowAgeName, tuple)):\n",
    "    MapGDF = df_AgeEnrichment(MapGDF, RowAgeName[0], RowAgeName[1], dict_min_age, dict_max_age, \"ChronoAgeTop\", \"ChronoAgeBottom\")\n",
    "elif (isinstance(RowAgeName, str)):\n",
    "    MapGDF = df_AgeEnrichment(MapGDF, RowAgeName, RowAgeName, dict_min_age, dict_max_age, \"ChronoAgeTop\", \"ChronoAgeBottom\")"
   ]
  },
  {
   "cell_type": "code",
   "execution_count": 6,
   "metadata": {
    "ExecuteTime": {
     "end_time": "2020-10-23T08:47:36.916525Z",
     "start_time": "2020-10-23T08:42:36.644306Z"
    }
   },
   "outputs": [],
   "source": [
    "MapGDF = gdf_GetNeighborsRows(MapGDF) #get a new column for neighboring locations' index"
   ]
  },
  {
   "cell_type": "code",
   "execution_count": 7,
   "metadata": {
    "ExecuteTime": {
     "end_time": "2020-10-23T08:47:36.921515Z",
     "start_time": "2020-10-23T08:47:36.917842Z"
    }
   },
   "outputs": [],
   "source": [
    "indx = 5558\n",
    "row = MapGDF.iloc[indx]\n",
    "df2 = MapGDF.iloc[row[\"IDXneighbors\"]]"
   ]
  },
  {
   "cell_type": "code",
   "execution_count": 8,
   "metadata": {
    "ExecuteTime": {
     "end_time": "2020-10-23T08:47:37.826904Z",
     "start_time": "2020-10-23T08:47:36.923463Z"
    }
   },
   "outputs": [
    {
     "data": {
      "text/plain": [
       "<AxesSubplot:>"
      ]
     },
     "execution_count": 8,
     "metadata": {},
     "output_type": "execute_result"
    },
    {
     "data": {
      "image/png": "[encoded data removed]",
      "text/plain": [
       "<Figure size 360x360 with 1 Axes>"
      ]
     },
     "metadata": {
      "needs_background": "light"
     },
     "output_type": "display_data"
    },
    {
     "data": {
      "image/png": "[encoded data removed]",
      "text/plain": [
       "<Figure size 360x360 with 1 Axes>"
      ]
     },
     "metadata": {
      "needs_background": "light"
     },
     "output_type": "display_data"
    }
   ],
   "source": [
    "world = gpd.read_file(gpd.datasets.get_path('naturalearth_lowres'))\n",
    "ax = world[world.name == 'Colombia'].plot( figsize=(5, 5),\n",
    "    color='white', edgecolor='black')\n",
    "df2.plot(ax=ax, color='red')\n",
    "\n",
    "MapGDF.loc[[indx],'geometry'].plot(ax=ax, color='blue')\n",
    "\n",
    "ax2 = df2.plot( figsize=(5, 5),\n",
    "    color='red')\n",
    "MapGDF.loc[[indx],'geometry'].plot(ax=ax2, color='blue')"
   ]
  },
  {
   "cell_type": "code",
   "execution_count": 12,
   "metadata": {
    "ExecuteTime": {
     "end_time": "2020-10-23T08:53:29.123359Z",
     "start_time": "2020-10-23T08:53:29.104435Z"
    }
   },
   "outputs": [
    {
     "data": {
      "text/html": [
       "<div>\n",
       "<style scoped>\n",
       "    .dataframe tbody tr th:only-of-type {\n",
       "        vertical-align: middle;\n",
       "    }\n",
       "\n",
       "    .dataframe tbody tr th {\n",
       "        vertical-align: top;\n",
       "    }\n",
       "\n",
       "    .dataframe thead th {\n",
       "        text-align: right;\n",
       "    }\n",
       "</style>\n",
       "<table border=\"1\" class=\"dataframe\">\n",
       "  <thead>\n",
       "    <tr style=\"text-align: right;\">\n",
       "      <th></th>\n",
       "      <th>simbolo_uc</th>\n",
       "      <th>ugintegrad</th>\n",
       "      <th>shape_area</th>\n",
       "      <th>objectid</th>\n",
       "      <th>n_carta_co</th>\n",
       "      <th>descripcio</th>\n",
       "      <th>comentario</th>\n",
       "      <th>edad</th>\n",
       "      <th>shape_leng</th>\n",
       "      <th>geometry</th>\n",
       "      <th>ChronoAgeTop</th>\n",
       "      <th>ChronoAgeBottom</th>\n",
       "      <th>IDXneighbors</th>\n",
       "    </tr>\n",
       "  </thead>\n",
       "  <tbody>\n",
       "    <tr>\n",
       "      <th>5558</th>\n",
       "      <td>Q-al</td>\n",
       "      <td>None</td>\n",
       "      <td>0.002546</td>\n",
       "      <td>14707.0</td>\n",
       "      <td>None</td>\n",
       "      <td>Dep?sitos aluviales y de llanuras aluviales</td>\n",
       "      <td>None</td>\n",
       "      <td>Cuaternario</td>\n",
       "      <td>0.38567</td>\n",
       "      <td>POLYGON ((-73.81203 5.01470, -73.81149 5.01291...</td>\n",
       "      <td>9999.0</td>\n",
       "      <td>3.0</td>\n",
       "      <td>[5213, 5219, 5247, 5513, 5555, 5556, 5566, 557...</td>\n",
       "    </tr>\n",
       "  </tbody>\n",
       "</table>\n",
       "</div>"
      ],
      "text/plain": [
       "     simbolo_uc ugintegrad  shape_area  objectid n_carta_co  \\\n",
       "5558       Q-al       None    0.002546   14707.0       None   \n",
       "\n",
       "                                       descripcio comentario         edad  \\\n",
       "5558  Dep?sitos aluviales y de llanuras aluviales       None  Cuaternario   \n",
       "\n",
       "      shape_leng                                           geometry  \\\n",
       "5558     0.38567  POLYGON ((-73.81203 5.01470, -73.81149 5.01291...   \n",
       "\n",
       "      ChronoAgeTop  ChronoAgeBottom  \\\n",
       "5558        9999.0              3.0   \n",
       "\n",
       "                                           IDXneighbors  \n",
       "5558  [5213, 5219, 5247, 5513, 5555, 5556, 5566, 557...  "
      ]
     },
     "execution_count": 12,
     "metadata": {},
     "output_type": "execute_result"
    }
   ],
   "source": [
    "MapGDF.loc[[indx]]"
   ]
  },
  {
   "cell_type": "markdown",
   "metadata": {},
   "source": [
    "## Data enrichment of a set of points"
   ]
  },
  {
   "cell_type": "code",
   "execution_count": 33,
   "metadata": {
    "ExecuteTime": {
     "end_time": "2020-10-23T09:03:48.476530Z",
     "start_time": "2020-10-23T09:03:48.436023Z"
    }
   },
   "outputs": [],
   "source": [
    "MyPoints = pd.DataFrame(\n",
    "    {'Pin': ['A', 'B', 'C', 'D', 'E'],\n",
    "     'Latitude': [4.95, 4.95, 4.95, 4.95, 4.95],\n",
    "     'Longitude': [-73.9, -73.88, -73.86, -73.84, -73.82]})\n",
    "\n",
    "gdf = gpd.GeoDataFrame(\n",
    "    MyPoints, geometry=gpd.points_from_xy(MyPoints.Longitude, MyPoints.Latitude), \n",
    "    crs=\"EPSG:4326\")"
   ]
  },
  {
   "cell_type": "code",
   "execution_count": 34,
   "metadata": {
    "ExecuteTime": {
     "end_time": "2020-10-23T09:03:49.237627Z",
     "start_time": "2020-10-23T09:03:49.062627Z"
    }
   },
   "outputs": [
    {
     "data": {
      "text/html": [
       "<div>\n",
       "<style scoped>\n",
       "    .dataframe tbody tr th:only-of-type {\n",
       "        vertical-align: middle;\n",
       "    }\n",
       "\n",
       "    .dataframe tbody tr th {\n",
       "        vertical-align: top;\n",
       "    }\n",
       "\n",
       "    .dataframe thead th {\n",
       "        text-align: right;\n",
       "    }\n",
       "</style>\n",
       "<table border=\"1\" class=\"dataframe\">\n",
       "  <thead>\n",
       "    <tr style=\"text-align: right;\">\n",
       "      <th></th>\n",
       "      <th>Pin</th>\n",
       "      <th>Latitude</th>\n",
       "      <th>Longitude</th>\n",
       "      <th>geometry</th>\n",
       "    </tr>\n",
       "  </thead>\n",
       "  <tbody>\n",
       "    <tr>\n",
       "      <th>0</th>\n",
       "      <td>A</td>\n",
       "      <td>4.95</td>\n",
       "      <td>-73.90</td>\n",
       "      <td>POINT (-73.90000 4.95000)</td>\n",
       "    </tr>\n",
       "    <tr>\n",
       "      <th>1</th>\n",
       "      <td>B</td>\n",
       "      <td>4.95</td>\n",
       "      <td>-73.88</td>\n",
       "      <td>POINT (-73.88000 4.95000)</td>\n",
       "    </tr>\n",
       "    <tr>\n",
       "      <th>2</th>\n",
       "      <td>C</td>\n",
       "      <td>4.95</td>\n",
       "      <td>-73.86</td>\n",
       "      <td>POINT (-73.86000 4.95000)</td>\n",
       "    </tr>\n",
       "    <tr>\n",
       "      <th>3</th>\n",
       "      <td>D</td>\n",
       "      <td>4.95</td>\n",
       "      <td>-73.84</td>\n",
       "      <td>POINT (-73.84000 4.95000)</td>\n",
       "    </tr>\n",
       "    <tr>\n",
       "      <th>4</th>\n",
       "      <td>E</td>\n",
       "      <td>4.95</td>\n",
       "      <td>-73.82</td>\n",
       "      <td>POINT (-73.82000 4.95000)</td>\n",
       "    </tr>\n",
       "  </tbody>\n",
       "</table>\n",
       "</div>"
      ],
      "text/plain": [
       "  Pin  Latitude  Longitude                   geometry\n",
       "0   A      4.95     -73.90  POINT (-73.90000 4.95000)\n",
       "1   B      4.95     -73.88  POINT (-73.88000 4.95000)\n",
       "2   C      4.95     -73.86  POINT (-73.86000 4.95000)\n",
       "3   D      4.95     -73.84  POINT (-73.84000 4.95000)\n",
       "4   E      4.95     -73.82  POINT (-73.82000 4.95000)"
      ]
     },
     "execution_count": 34,
     "metadata": {},
     "output_type": "execute_result"
    },
    {
     "data": {
      "image/png": "[encoded data removed]",
      "text/plain": [
       "<Figure size 360x360 with 1 Axes>"
      ]
     },
     "metadata": {
      "needs_background": "light"
     },
     "output_type": "display_data"
    }
   ],
   "source": [
    "ax3 = df2.plot(color='red', figsize=(5, 5))\n",
    "MapGDF.loc[[indx],'geometry'].plot(ax=ax3, color='lightblue')\n",
    "gdf.plot(ax=ax3,marker=\"x\",color=\"black\")\n",
    "gdf"
   ]
  },
  {
   "cell_type": "code",
   "execution_count": 36,
   "metadata": {
    "ExecuteTime": {
     "end_time": "2020-10-23T09:05:07.075410Z",
     "start_time": "2020-10-23T09:05:06.482192Z"
    }
   },
   "outputs": [
    {
     "data": {
      "text/html": [
       "<div>\n",
       "<style scoped>\n",
       "    .dataframe tbody tr th:only-of-type {\n",
       "        vertical-align: middle;\n",
       "    }\n",
       "\n",
       "    .dataframe tbody tr th {\n",
       "        vertical-align: top;\n",
       "    }\n",
       "\n",
       "    .dataframe thead th {\n",
       "        text-align: right;\n",
       "    }\n",
       "</style>\n",
       "<table border=\"1\" class=\"dataframe\">\n",
       "  <thead>\n",
       "    <tr style=\"text-align: right;\">\n",
       "      <th></th>\n",
       "      <th>Pin</th>\n",
       "      <th>Latitude</th>\n",
       "      <th>Longitude</th>\n",
       "      <th>simbolo_uc</th>\n",
       "      <th>ChronoAgeTop</th>\n",
       "      <th>ChronoAgeBottom</th>\n",
       "    </tr>\n",
       "  </thead>\n",
       "  <tbody>\n",
       "    <tr>\n",
       "      <th>0</th>\n",
       "      <td>A</td>\n",
       "      <td>4.95</td>\n",
       "      <td>-73.90</td>\n",
       "      <td>k1k6-Stm</td>\n",
       "      <td>66.0</td>\n",
       "      <td>100.0</td>\n",
       "    </tr>\n",
       "    <tr>\n",
       "      <th>1</th>\n",
       "      <td>B</td>\n",
       "      <td>4.95</td>\n",
       "      <td>-73.88</td>\n",
       "      <td>k1k6-Stm</td>\n",
       "      <td>66.0</td>\n",
       "      <td>100.0</td>\n",
       "    </tr>\n",
       "    <tr>\n",
       "      <th>2</th>\n",
       "      <td>C</td>\n",
       "      <td>4.95</td>\n",
       "      <td>-73.86</td>\n",
       "      <td>N2Q1-Sc</td>\n",
       "      <td>9999.0</td>\n",
       "      <td>5.0</td>\n",
       "    </tr>\n",
       "    <tr>\n",
       "      <th>3</th>\n",
       "      <td>D</td>\n",
       "      <td>4.95</td>\n",
       "      <td>-73.84</td>\n",
       "      <td>Q-al</td>\n",
       "      <td>9999.0</td>\n",
       "      <td>3.0</td>\n",
       "    </tr>\n",
       "    <tr>\n",
       "      <th>4</th>\n",
       "      <td>E</td>\n",
       "      <td>4.95</td>\n",
       "      <td>-73.82</td>\n",
       "      <td>k6E1-Stm</td>\n",
       "      <td>56.0</td>\n",
       "      <td>100.0</td>\n",
       "    </tr>\n",
       "  </tbody>\n",
       "</table>\n",
       "</div>"
      ],
      "text/plain": [
       "  Pin  Latitude  Longitude simbolo_uc  ChronoAgeTop  ChronoAgeBottom\n",
       "0   A      4.95     -73.90   k1k6-Stm          66.0            100.0\n",
       "1   B      4.95     -73.88   k1k6-Stm          66.0            100.0\n",
       "2   C      4.95     -73.86    N2Q1-Sc        9999.0              5.0\n",
       "3   D      4.95     -73.84       Q-al        9999.0              3.0\n",
       "4   E      4.95     -73.82   k6E1-Stm          56.0            100.0"
      ]
     },
     "execution_count": 36,
     "metadata": {},
     "output_type": "execute_result"
    }
   ],
   "source": [
    "gpd.sjoin(MapGDF,gdf,how=\"right\")[[\"Pin\",\"Latitude\",\"Longitude\",\"simbolo_uc\",\"ChronoAgeTop\",\"ChronoAgeBottom\"]]"
   ]
  },
  {
   "cell_type": "markdown",
   "metadata": {},
   "source": [
    "## Find unique tops"
   ]
  },
  {
   "cell_type": "code",
   "execution_count": 10,
   "metadata": {
    "ExecuteTime": {
     "end_time": "2020-10-23T08:47:39.441787Z",
     "start_time": "2020-10-23T08:47:37.856454Z"
    }
   },
   "outputs": [],
   "source": [
    "ColumnAgeTop = \"ChronoAgeTop\"; ColumnAgeBottom = \"ChronoAgeBottom\"\n",
    "\n",
    "BottomAgesList = MapGDF[ColumnAgeBottom].unique().tolist()\n",
    "BottomAgesList = [x for x in BottomAgesList if x != 9999.0]\n",
    "\n",
    "UnderlyingUnits = MapGDF[MapGDF.ChronoAgeTop.isin(BottomAgesList)]\n",
    "\n",
    "tmp_list = []\n",
    "for index, Row in UnderlyingUnits.iterrows():\n",
    "    tmp_list.append({\n",
    "        'Age': Row[ColumnAgeTop],\n",
    "        'Value': -200.0,\n",
    "        'geometry' : GetPolygonExterior(Row),\n",
    "         })\n",
    "    \n",
    "ConfLinesDF = pd.DataFrame(tmp_list)\n",
    "ConfLinesGDF = gpd.GeoDataFrame(ConfLinesDF, crs=\"EPSG:4326\", geometry = ConfLinesDF.geometry)"
   ]
  },
  {
   "cell_type": "code",
   "execution_count": 37,
   "metadata": {
    "ExecuteTime": {
     "end_time": "2020-10-23T09:09:22.911031Z",
     "start_time": "2020-10-23T09:09:21.304810Z"
    }
   },
   "outputs": [
    {
     "data": {
      "text/plain": [
       "<AxesSubplot:>"
      ]
     },
     "execution_count": 37,
     "metadata": {},
     "output_type": "execute_result"
    },
    {
     "data": {
      "image/png": "[encoded data removed]",
      "text/plain": [
       "<Figure size 360x360 with 1 Axes>"
      ]
     },
     "metadata": {
      "needs_background": "light"
     },
     "output_type": "display_data"
    }
   ],
   "source": [
    "ConfLinesGDF.plot(figsize=(5, 5))"
   ]
  },
  {
   "cell_type": "code",
   "execution_count": null,
   "metadata": {},
   "outputs": [],
   "source": []
  }
 ],
 "metadata": {
  "hide_input": false,
  "kernelspec": {
   "display_name": "Python 3",
   "language": "python",
   "name": "python3"
  },
  "language_info": {
   "codemirror_mode": {
    "name": "ipython",
    "version": 3
   },
   "file_extension": ".py",
   "mimetype": "text/x-python",
   "name": "python",
   "nbconvert_exporter": "python",
   "pygments_lexer": "ipython3",
   "version": "3.8.2"
  }
 },
 "nbformat": 4,
 "nbformat_minor": 4
}
