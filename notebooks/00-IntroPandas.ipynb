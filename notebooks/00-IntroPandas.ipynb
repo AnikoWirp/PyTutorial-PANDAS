{
 "cells": [
  {
   "cell_type": "markdown",
   "metadata": {},
   "source": [
    "# Short Intro to Pandas\n",
    "\n",
    "Pandas is a Python package for data manipulation and analysis. It provides fast, flexible, and expressive data structures. Its a way to work with Excel using code. Then it is easier to automate data processing tasks that otherwise would take longer using Excel."
   ]
  },
  {
   "cell_type": "markdown",
   "metadata": {},
   "source": [
    "- Contains robust IO tools for loading data such as Excel, CSV. Also works with HDF5 (req. pyTables)\n",
    "- Intuitive merging and joining datasets, great for a growing dataset\n",
    "- Allows insertion, deletion and reorganization of the columns and rows.\n",
    "- It allows easy filtering/group by tool of the DataFrame with respect to a variable value, which is very useful for cleaning up a dataset\n",
    "- Allows the plotting of information from a DataFrame\n",
    "- Many other libraries are built on top of Pandas for extended uses"
   ]
  },
  {
   "cell_type": "markdown",
   "metadata": {},
   "source": [
    "However, as any other tool we have to be familiar with it and be prepared for common problems that might arise.\n",
    "\n",
    "---------------------------------------------------------------------\n"
   ]
  },
  {
   "cell_type": "markdown",
   "metadata": {},
   "source": [
    "## Jumping into action\n",
    "\n",
    "As always, importing the library is a must, it is commonly done as follows:\n"
   ]
  },
  {
   "cell_type": "code",
   "execution_count": 1,
   "metadata": {
    "ExecuteTime": {
     "end_time": "2020-10-27T13:54:29.820029Z",
     "start_time": "2020-10-27T13:54:25.378756Z"
    }
   },
   "outputs": [],
   "source": [
    "import pandas as pd"
   ]
  },
  {
   "cell_type": "markdown",
   "metadata": {},
   "source": [
    "In this case, we will be importing a CSV file, and recognize the main two types in pandas, a Dataframe (2D) and a Series (1D)"
   ]
  },
  {
   "cell_type": "code",
   "execution_count": 2,
   "metadata": {
    "ExecuteTime": {
     "end_time": "2020-10-27T13:54:29.991783Z",
     "start_time": "2020-10-27T13:54:29.824348Z"
    }
   },
   "outputs": [
    {
     "name": "stdout",
     "output_type": "stream",
     "text": [
      "<class 'pandas.core.frame.DataFrame'>\n",
      "<class 'pandas.core.series.Series'>\n"
     ]
    }
   ],
   "source": [
    "TestSample_Dataframe = pd.read_csv(\"./../SampleData/FL_insurance_sample.csv\")\n",
    "print(type(TestSample_Dataframe))\n",
    "print(type(TestSample_Dataframe.iloc[0]))"
   ]
  },
  {
   "cell_type": "markdown",
   "metadata": {},
   "source": [
    "A Jupyter notebook can be very useful when checking out dataframes from Pandas"
   ]
  },
  {
   "cell_type": "code",
   "execution_count": 3,
   "metadata": {
    "ExecuteTime": {
     "end_time": "2020-10-27T13:54:30.024862Z",
     "start_time": "2020-10-27T13:54:29.994068Z"
    }
   },
   "outputs": [
    {
     "data": {
      "text/html": [
       "<div>\n",
       "<style scoped>\n",
       "    .dataframe tbody tr th:only-of-type {\n",
       "        vertical-align: middle;\n",
       "    }\n",
       "\n",
       "    .dataframe tbody tr th {\n",
       "        vertical-align: top;\n",
       "    }\n",
       "\n",
       "    .dataframe thead th {\n",
       "        text-align: right;\n",
       "    }\n",
       "</style>\n",
       "<table border=\"1\" class=\"dataframe\">\n",
       "  <thead>\n",
       "    <tr style=\"text-align: right;\">\n",
       "      <th></th>\n",
       "      <th>policyID</th>\n",
       "      <th>statecode</th>\n",
       "      <th>county</th>\n",
       "      <th>eq_site_limit</th>\n",
       "      <th>hu_site_limit</th>\n",
       "      <th>fl_site_limit</th>\n",
       "      <th>fr_site_limit</th>\n",
       "      <th>tiv_2011</th>\n",
       "      <th>tiv_2012</th>\n",
       "      <th>eq_site_deductible</th>\n",
       "      <th>hu_site_deductible</th>\n",
       "      <th>fl_site_deductible</th>\n",
       "      <th>fr_site_deductible</th>\n",
       "      <th>point_latitude</th>\n",
       "      <th>point_longitude</th>\n",
       "      <th>line</th>\n",
       "      <th>construction</th>\n",
       "      <th>point_granularity</th>\n",
       "    </tr>\n",
       "  </thead>\n",
       "  <tbody>\n",
       "    <tr>\n",
       "      <th>0</th>\n",
       "      <td>119736</td>\n",
       "      <td>FL</td>\n",
       "      <td>CLAY COUNTY</td>\n",
       "      <td>498960.0</td>\n",
       "      <td>498960.00</td>\n",
       "      <td>498960.0</td>\n",
       "      <td>498960.0</td>\n",
       "      <td>498960.00</td>\n",
       "      <td>792148.90</td>\n",
       "      <td>0.0</td>\n",
       "      <td>9979.2</td>\n",
       "      <td>0.0</td>\n",
       "      <td>0</td>\n",
       "      <td>30.102261</td>\n",
       "      <td>-81.711777</td>\n",
       "      <td>Residential</td>\n",
       "      <td>Masonry</td>\n",
       "      <td>1</td>\n",
       "    </tr>\n",
       "    <tr>\n",
       "      <th>1</th>\n",
       "      <td>448094</td>\n",
       "      <td>FL</td>\n",
       "      <td>CLAY COUNTY</td>\n",
       "      <td>1322376.3</td>\n",
       "      <td>1322376.30</td>\n",
       "      <td>1322376.3</td>\n",
       "      <td>1322376.3</td>\n",
       "      <td>1322376.30</td>\n",
       "      <td>1438163.57</td>\n",
       "      <td>0.0</td>\n",
       "      <td>0.0</td>\n",
       "      <td>0.0</td>\n",
       "      <td>0</td>\n",
       "      <td>30.063936</td>\n",
       "      <td>-81.707664</td>\n",
       "      <td>Residential</td>\n",
       "      <td>Masonry</td>\n",
       "      <td>3</td>\n",
       "    </tr>\n",
       "    <tr>\n",
       "      <th>2</th>\n",
       "      <td>206893</td>\n",
       "      <td>FL</td>\n",
       "      <td>CLAY COUNTY</td>\n",
       "      <td>190724.4</td>\n",
       "      <td>190724.40</td>\n",
       "      <td>190724.4</td>\n",
       "      <td>190724.4</td>\n",
       "      <td>190724.40</td>\n",
       "      <td>192476.78</td>\n",
       "      <td>0.0</td>\n",
       "      <td>0.0</td>\n",
       "      <td>0.0</td>\n",
       "      <td>0</td>\n",
       "      <td>30.089579</td>\n",
       "      <td>-81.700455</td>\n",
       "      <td>Residential</td>\n",
       "      <td>Wood</td>\n",
       "      <td>1</td>\n",
       "    </tr>\n",
       "    <tr>\n",
       "      <th>3</th>\n",
       "      <td>333743</td>\n",
       "      <td>FL</td>\n",
       "      <td>CLAY COUNTY</td>\n",
       "      <td>0.0</td>\n",
       "      <td>79520.76</td>\n",
       "      <td>0.0</td>\n",
       "      <td>0.0</td>\n",
       "      <td>79520.76</td>\n",
       "      <td>86854.48</td>\n",
       "      <td>0.0</td>\n",
       "      <td>0.0</td>\n",
       "      <td>0.0</td>\n",
       "      <td>0</td>\n",
       "      <td>30.063236</td>\n",
       "      <td>-81.707703</td>\n",
       "      <td>Residential</td>\n",
       "      <td>Wood</td>\n",
       "      <td>3</td>\n",
       "    </tr>\n",
       "    <tr>\n",
       "      <th>4</th>\n",
       "      <td>172534</td>\n",
       "      <td>FL</td>\n",
       "      <td>CLAY COUNTY</td>\n",
       "      <td>0.0</td>\n",
       "      <td>254281.50</td>\n",
       "      <td>0.0</td>\n",
       "      <td>254281.5</td>\n",
       "      <td>254281.50</td>\n",
       "      <td>246144.49</td>\n",
       "      <td>0.0</td>\n",
       "      <td>0.0</td>\n",
       "      <td>0.0</td>\n",
       "      <td>0</td>\n",
       "      <td>30.060614</td>\n",
       "      <td>-81.702675</td>\n",
       "      <td>Residential</td>\n",
       "      <td>Wood</td>\n",
       "      <td>1</td>\n",
       "    </tr>\n",
       "    <tr>\n",
       "      <th>...</th>\n",
       "      <td>...</td>\n",
       "      <td>...</td>\n",
       "      <td>...</td>\n",
       "      <td>...</td>\n",
       "      <td>...</td>\n",
       "      <td>...</td>\n",
       "      <td>...</td>\n",
       "      <td>...</td>\n",
       "      <td>...</td>\n",
       "      <td>...</td>\n",
       "      <td>...</td>\n",
       "      <td>...</td>\n",
       "      <td>...</td>\n",
       "      <td>...</td>\n",
       "      <td>...</td>\n",
       "      <td>...</td>\n",
       "      <td>...</td>\n",
       "      <td>...</td>\n",
       "    </tr>\n",
       "    <tr>\n",
       "      <th>36629</th>\n",
       "      <td>404309</td>\n",
       "      <td>FL</td>\n",
       "      <td>PINELLAS COUNTY</td>\n",
       "      <td>0.0</td>\n",
       "      <td>88722.00</td>\n",
       "      <td>0.0</td>\n",
       "      <td>88722.0</td>\n",
       "      <td>88722.00</td>\n",
       "      <td>155065.65</td>\n",
       "      <td>0.0</td>\n",
       "      <td>0.0</td>\n",
       "      <td>0.0</td>\n",
       "      <td>0</td>\n",
       "      <td>28.122885</td>\n",
       "      <td>-82.770218</td>\n",
       "      <td>Residential</td>\n",
       "      <td>Wood</td>\n",
       "      <td>3</td>\n",
       "    </tr>\n",
       "    <tr>\n",
       "      <th>36630</th>\n",
       "      <td>465875</td>\n",
       "      <td>FL</td>\n",
       "      <td>PINELLAS COUNTY</td>\n",
       "      <td>1297057.5</td>\n",
       "      <td>1297057.50</td>\n",
       "      <td>1297057.5</td>\n",
       "      <td>1297057.5</td>\n",
       "      <td>1297057.50</td>\n",
       "      <td>1577500.79</td>\n",
       "      <td>0.0</td>\n",
       "      <td>0.0</td>\n",
       "      <td>0.0</td>\n",
       "      <td>0</td>\n",
       "      <td>28.080900</td>\n",
       "      <td>-82.758800</td>\n",
       "      <td>Residential</td>\n",
       "      <td>Masonry</td>\n",
       "      <td>1</td>\n",
       "    </tr>\n",
       "    <tr>\n",
       "      <th>36631</th>\n",
       "      <td>791209</td>\n",
       "      <td>FL</td>\n",
       "      <td>PINELLAS COUNTY</td>\n",
       "      <td>173286.9</td>\n",
       "      <td>173286.90</td>\n",
       "      <td>0.0</td>\n",
       "      <td>0.0</td>\n",
       "      <td>173286.90</td>\n",
       "      <td>205527.97</td>\n",
       "      <td>0.0</td>\n",
       "      <td>0.0</td>\n",
       "      <td>0.0</td>\n",
       "      <td>0</td>\n",
       "      <td>28.110550</td>\n",
       "      <td>-82.766360</td>\n",
       "      <td>Residential</td>\n",
       "      <td>Wood</td>\n",
       "      <td>4</td>\n",
       "    </tr>\n",
       "    <tr>\n",
       "      <th>36632</th>\n",
       "      <td>322627</td>\n",
       "      <td>FL</td>\n",
       "      <td>PINELLAS COUNTY</td>\n",
       "      <td>1499781.6</td>\n",
       "      <td>1499781.60</td>\n",
       "      <td>0.0</td>\n",
       "      <td>0.0</td>\n",
       "      <td>1499781.60</td>\n",
       "      <td>1768782.43</td>\n",
       "      <td>0.0</td>\n",
       "      <td>0.0</td>\n",
       "      <td>0.0</td>\n",
       "      <td>0</td>\n",
       "      <td>28.089415</td>\n",
       "      <td>-82.697411</td>\n",
       "      <td>Residential</td>\n",
       "      <td>Masonry</td>\n",
       "      <td>3</td>\n",
       "    </tr>\n",
       "    <tr>\n",
       "      <th>36633</th>\n",
       "      <td>398149</td>\n",
       "      <td>FL</td>\n",
       "      <td>PINELLAS COUNTY</td>\n",
       "      <td>373488.3</td>\n",
       "      <td>373488.30</td>\n",
       "      <td>0.0</td>\n",
       "      <td>0.0</td>\n",
       "      <td>373488.30</td>\n",
       "      <td>596003.67</td>\n",
       "      <td>0.0</td>\n",
       "      <td>0.0</td>\n",
       "      <td>0.0</td>\n",
       "      <td>0</td>\n",
       "      <td>28.064440</td>\n",
       "      <td>-82.774590</td>\n",
       "      <td>Residential</td>\n",
       "      <td>Masonry</td>\n",
       "      <td>1</td>\n",
       "    </tr>\n",
       "  </tbody>\n",
       "</table>\n",
       "<p>36634 rows × 18 columns</p>\n",
       "</div>"
      ],
      "text/plain": [
       "       policyID statecode           county  eq_site_limit  hu_site_limit  \\\n",
       "0        119736        FL      CLAY COUNTY       498960.0      498960.00   \n",
       "1        448094        FL      CLAY COUNTY      1322376.3     1322376.30   \n",
       "2        206893        FL      CLAY COUNTY       190724.4      190724.40   \n",
       "3        333743        FL      CLAY COUNTY            0.0       79520.76   \n",
       "4        172534        FL      CLAY COUNTY            0.0      254281.50   \n",
       "...         ...       ...              ...            ...            ...   \n",
       "36629    404309        FL  PINELLAS COUNTY            0.0       88722.00   \n",
       "36630    465875        FL  PINELLAS COUNTY      1297057.5     1297057.50   \n",
       "36631    791209        FL  PINELLAS COUNTY       173286.9      173286.90   \n",
       "36632    322627        FL  PINELLAS COUNTY      1499781.6     1499781.60   \n",
       "36633    398149        FL  PINELLAS COUNTY       373488.3      373488.30   \n",
       "\n",
       "       fl_site_limit  fr_site_limit    tiv_2011    tiv_2012  \\\n",
       "0           498960.0       498960.0   498960.00   792148.90   \n",
       "1          1322376.3      1322376.3  1322376.30  1438163.57   \n",
       "2           190724.4       190724.4   190724.40   192476.78   \n",
       "3                0.0            0.0    79520.76    86854.48   \n",
       "4                0.0       254281.5   254281.50   246144.49   \n",
       "...              ...            ...         ...         ...   \n",
       "36629            0.0        88722.0    88722.00   155065.65   \n",
       "36630      1297057.5      1297057.5  1297057.50  1577500.79   \n",
       "36631            0.0            0.0   173286.90   205527.97   \n",
       "36632            0.0            0.0  1499781.60  1768782.43   \n",
       "36633            0.0            0.0   373488.30   596003.67   \n",
       "\n",
       "       eq_site_deductible  hu_site_deductible  fl_site_deductible  \\\n",
       "0                     0.0              9979.2                 0.0   \n",
       "1                     0.0                 0.0                 0.0   \n",
       "2                     0.0                 0.0                 0.0   \n",
       "3                     0.0                 0.0                 0.0   \n",
       "4                     0.0                 0.0                 0.0   \n",
       "...                   ...                 ...                 ...   \n",
       "36629                 0.0                 0.0                 0.0   \n",
       "36630                 0.0                 0.0                 0.0   \n",
       "36631                 0.0                 0.0                 0.0   \n",
       "36632                 0.0                 0.0                 0.0   \n",
       "36633                 0.0                 0.0                 0.0   \n",
       "\n",
       "       fr_site_deductible  point_latitude  point_longitude         line  \\\n",
       "0                       0       30.102261       -81.711777  Residential   \n",
       "1                       0       30.063936       -81.707664  Residential   \n",
       "2                       0       30.089579       -81.700455  Residential   \n",
       "3                       0       30.063236       -81.707703  Residential   \n",
       "4                       0       30.060614       -81.702675  Residential   \n",
       "...                   ...             ...              ...          ...   \n",
       "36629                   0       28.122885       -82.770218  Residential   \n",
       "36630                   0       28.080900       -82.758800  Residential   \n",
       "36631                   0       28.110550       -82.766360  Residential   \n",
       "36632                   0       28.089415       -82.697411  Residential   \n",
       "36633                   0       28.064440       -82.774590  Residential   \n",
       "\n",
       "      construction  point_granularity  \n",
       "0          Masonry                  1  \n",
       "1          Masonry                  3  \n",
       "2             Wood                  1  \n",
       "3             Wood                  3  \n",
       "4             Wood                  1  \n",
       "...            ...                ...  \n",
       "36629         Wood                  3  \n",
       "36630      Masonry                  1  \n",
       "36631         Wood                  4  \n",
       "36632      Masonry                  3  \n",
       "36633      Masonry                  1  \n",
       "\n",
       "[36634 rows x 18 columns]"
      ]
     },
     "execution_count": 3,
     "metadata": {},
     "output_type": "execute_result"
    }
   ],
   "source": [
    "TestSample_Dataframe"
   ]
  },
  {
   "cell_type": "markdown",
   "metadata": {},
   "source": [
    "The information from a single row can be called through the row index using the dataframe function iloc "
   ]
  },
  {
   "cell_type": "code",
   "execution_count": 4,
   "metadata": {
    "ExecuteTime": {
     "end_time": "2020-10-27T13:54:30.035145Z",
     "start_time": "2020-10-27T13:54:30.026274Z"
    }
   },
   "outputs": [
    {
     "data": {
      "text/plain": [
       "policyID                   119736\n",
       "statecode                      FL\n",
       "county                CLAY COUNTY\n",
       "eq_site_limit              498960\n",
       "hu_site_limit              498960\n",
       "fl_site_limit              498960\n",
       "fr_site_limit              498960\n",
       "tiv_2011                   498960\n",
       "tiv_2012                   792149\n",
       "eq_site_deductible              0\n",
       "hu_site_deductible         9979.2\n",
       "fl_site_deductible              0\n",
       "fr_site_deductible              0\n",
       "point_latitude            30.1023\n",
       "point_longitude          -81.7118\n",
       "line                  Residential\n",
       "construction              Masonry\n",
       "point_granularity               1\n",
       "Name: 0, dtype: object"
      ]
     },
     "execution_count": 4,
     "metadata": {},
     "output_type": "execute_result"
    }
   ],
   "source": [
    "TestSample_Dataframe.iloc[0]"
   ]
  },
  {
   "cell_type": "markdown",
   "metadata": {},
   "source": [
    "When we need to clean data, we can focus on a subset of information, such as printing out a list of columns:"
   ]
  },
  {
   "cell_type": "code",
   "execution_count": 5,
   "metadata": {
    "ExecuteTime": {
     "end_time": "2020-10-27T13:54:30.050378Z",
     "start_time": "2020-10-27T13:54:30.036480Z"
    }
   },
   "outputs": [
    {
     "data": {
      "text/plain": [
       "Index(['policyID', 'statecode', 'county', 'eq_site_limit', 'hu_site_limit',\n",
       "       'fl_site_limit', 'fr_site_limit', 'tiv_2011', 'tiv_2012',\n",
       "       'eq_site_deductible', 'hu_site_deductible', 'fl_site_deductible',\n",
       "       'fr_site_deductible', 'point_latitude', 'point_longitude', 'line',\n",
       "       'construction', 'point_granularity'],\n",
       "      dtype='object')"
      ]
     },
     "execution_count": 5,
     "metadata": {},
     "output_type": "execute_result"
    }
   ],
   "source": [
    "TestSample_Dataframe.columns"
   ]
  },
  {
   "cell_type": "markdown",
   "metadata": {},
   "source": [
    "Or printing out a list of unique values in a column:"
   ]
  },
  {
   "cell_type": "code",
   "execution_count": 6,
   "metadata": {
    "ExecuteTime": {
     "end_time": "2020-10-27T13:54:30.073068Z",
     "start_time": "2020-10-27T13:54:30.051647Z"
    }
   },
   "outputs": [
    {
     "data": {
      "text/plain": [
       "array(['CLAY COUNTY', 'SUWANNEE COUNTY', 'NASSAU COUNTY',\n",
       "       'COLUMBIA COUNTY', 'ST  JOHNS COUNTY', 'BAKER COUNTY',\n",
       "       'BRADFORD COUNTY', 'HAMILTON COUNTY', 'UNION COUNTY',\n",
       "       'MADISON COUNTY', 'LAFAYETTE COUNTY', 'FLAGLER COUNTY',\n",
       "       'DUVAL COUNTY', 'LAKE COUNTY', 'VOLUSIA COUNTY', 'PUTNAM COUNTY',\n",
       "       'MARION COUNTY', 'SUMTER COUNTY', 'LEON COUNTY', 'FRANKLIN COUNTY',\n",
       "       'LIBERTY COUNTY', 'GADSDEN COUNTY', 'WAKULLA COUNTY',\n",
       "       'JEFFERSON COUNTY', 'TAYLOR COUNTY', 'BAY COUNTY', 'WALTON COUNTY',\n",
       "       'JACKSON COUNTY', 'CALHOUN COUNTY', 'HOLMES COUNTY',\n",
       "       'WASHINGTON COUNTY', 'GULF COUNTY', 'ESCAMBIA COUNTY',\n",
       "       'SANTA ROSA COUNTY', 'OKALOOSA COUNTY', 'ALACHUA COUNTY',\n",
       "       'GILCHRIST COUNTY', 'LEVY COUNTY', 'DIXIE COUNTY',\n",
       "       'SEMINOLE COUNTY', 'ORANGE COUNTY', 'BREVARD COUNTY',\n",
       "       'INDIAN RIVER COUNTY', 'MIAMI DADE COUNTY', 'BROWARD COUNTY',\n",
       "       'MONROE COUNTY', 'PALM BEACH COUNTY', 'MARTIN COUNTY',\n",
       "       'HENDRY COUNTY', 'PASCO COUNTY', 'GLADES COUNTY',\n",
       "       'HILLSBOROUGH COUNTY', 'HERNANDO COUNTY', 'PINELLAS COUNTY',\n",
       "       'POLK COUNTY', 'North Fort Myers', 'Orlando', 'HIGHLANDS COUNTY',\n",
       "       'HARDEE COUNTY', 'MANATEE COUNTY', 'OSCEOLA COUNTY', 'LEE COUNTY',\n",
       "       'CHARLOTTE COUNTY', 'COLLIER COUNTY', 'SARASOTA COUNTY',\n",
       "       'DESOTO COUNTY', 'CITRUS COUNTY'], dtype=object)"
      ]
     },
     "execution_count": 6,
     "metadata": {},
     "output_type": "execute_result"
    }
   ],
   "source": [
    "TestSample_Dataframe[\"county\"].unique()"
   ]
  },
  {
   "cell_type": "markdown",
   "metadata": {},
   "source": [
    "We can also focus on/edit a small part of the whole dataframe by applying conditions to the dataframe, such as specific conditions to a single column"
   ]
  },
  {
   "cell_type": "code",
   "execution_count": 7,
   "metadata": {
    "ExecuteTime": {
     "end_time": "2020-10-27T13:54:30.120313Z",
     "start_time": "2020-10-27T13:54:30.074328Z"
    }
   },
   "outputs": [
    {
     "data": {
      "text/html": [
       "<div>\n",
       "<style scoped>\n",
       "    .dataframe tbody tr th:only-of-type {\n",
       "        vertical-align: middle;\n",
       "    }\n",
       "\n",
       "    .dataframe tbody tr th {\n",
       "        vertical-align: top;\n",
       "    }\n",
       "\n",
       "    .dataframe thead th {\n",
       "        text-align: right;\n",
       "    }\n",
       "</style>\n",
       "<table border=\"1\" class=\"dataframe\">\n",
       "  <thead>\n",
       "    <tr style=\"text-align: right;\">\n",
       "      <th></th>\n",
       "      <th>policyID</th>\n",
       "      <th>statecode</th>\n",
       "      <th>county</th>\n",
       "      <th>eq_site_limit</th>\n",
       "      <th>hu_site_limit</th>\n",
       "      <th>fl_site_limit</th>\n",
       "      <th>fr_site_limit</th>\n",
       "      <th>tiv_2011</th>\n",
       "      <th>tiv_2012</th>\n",
       "      <th>eq_site_deductible</th>\n",
       "      <th>hu_site_deductible</th>\n",
       "      <th>fl_site_deductible</th>\n",
       "      <th>fr_site_deductible</th>\n",
       "      <th>point_latitude</th>\n",
       "      <th>point_longitude</th>\n",
       "      <th>line</th>\n",
       "      <th>construction</th>\n",
       "      <th>point_granularity</th>\n",
       "    </tr>\n",
       "  </thead>\n",
       "  <tbody>\n",
       "    <tr>\n",
       "      <th>5119</th>\n",
       "      <td>481615</td>\n",
       "      <td>FL</td>\n",
       "      <td>FRANKLIN COUNTY</td>\n",
       "      <td>262417.5</td>\n",
       "      <td>262417.5</td>\n",
       "      <td>262417.5</td>\n",
       "      <td>262417.5</td>\n",
       "      <td>262417.5</td>\n",
       "      <td>296493.99</td>\n",
       "      <td>0.0</td>\n",
       "      <td>0.0</td>\n",
       "      <td>0.0</td>\n",
       "      <td>0</td>\n",
       "      <td>29.726414</td>\n",
       "      <td>-84.985733</td>\n",
       "      <td>Residential</td>\n",
       "      <td>Wood</td>\n",
       "      <td>1</td>\n",
       "    </tr>\n",
       "    <tr>\n",
       "      <th>5120</th>\n",
       "      <td>906547</td>\n",
       "      <td>FL</td>\n",
       "      <td>FRANKLIN COUNTY</td>\n",
       "      <td>240500.7</td>\n",
       "      <td>240500.7</td>\n",
       "      <td>240500.7</td>\n",
       "      <td>240500.7</td>\n",
       "      <td>240500.7</td>\n",
       "      <td>182597.75</td>\n",
       "      <td>0.0</td>\n",
       "      <td>0.0</td>\n",
       "      <td>0.0</td>\n",
       "      <td>0</td>\n",
       "      <td>29.726414</td>\n",
       "      <td>-84.985733</td>\n",
       "      <td>Residential</td>\n",
       "      <td>Wood</td>\n",
       "      <td>1</td>\n",
       "    </tr>\n",
       "    <tr>\n",
       "      <th>5121</th>\n",
       "      <td>748767</td>\n",
       "      <td>FL</td>\n",
       "      <td>FRANKLIN COUNTY</td>\n",
       "      <td>81900.0</td>\n",
       "      <td>81900.0</td>\n",
       "      <td>81900.0</td>\n",
       "      <td>81900.0</td>\n",
       "      <td>81900.0</td>\n",
       "      <td>90565.02</td>\n",
       "      <td>0.0</td>\n",
       "      <td>0.0</td>\n",
       "      <td>0.0</td>\n",
       "      <td>0</td>\n",
       "      <td>29.726414</td>\n",
       "      <td>-84.985733</td>\n",
       "      <td>Residential</td>\n",
       "      <td>Wood</td>\n",
       "      <td>1</td>\n",
       "    </tr>\n",
       "    <tr>\n",
       "      <th>5251</th>\n",
       "      <td>425957</td>\n",
       "      <td>FL</td>\n",
       "      <td>FRANKLIN COUNTY</td>\n",
       "      <td>38520.0</td>\n",
       "      <td>38520.0</td>\n",
       "      <td>38520.0</td>\n",
       "      <td>38520.0</td>\n",
       "      <td>38520.0</td>\n",
       "      <td>42492.57</td>\n",
       "      <td>0.0</td>\n",
       "      <td>0.0</td>\n",
       "      <td>0.0</td>\n",
       "      <td>0</td>\n",
       "      <td>29.735466</td>\n",
       "      <td>-84.882439</td>\n",
       "      <td>Residential</td>\n",
       "      <td>Wood</td>\n",
       "      <td>1</td>\n",
       "    </tr>\n",
       "    <tr>\n",
       "      <th>5252</th>\n",
       "      <td>984289</td>\n",
       "      <td>FL</td>\n",
       "      <td>FRANKLIN COUNTY</td>\n",
       "      <td>481496.4</td>\n",
       "      <td>481496.4</td>\n",
       "      <td>0.0</td>\n",
       "      <td>0.0</td>\n",
       "      <td>481496.4</td>\n",
       "      <td>566795.89</td>\n",
       "      <td>0.0</td>\n",
       "      <td>0.0</td>\n",
       "      <td>0.0</td>\n",
       "      <td>0</td>\n",
       "      <td>29.663502</td>\n",
       "      <td>-84.865135</td>\n",
       "      <td>Residential</td>\n",
       "      <td>Masonry</td>\n",
       "      <td>3</td>\n",
       "    </tr>\n",
       "  </tbody>\n",
       "</table>\n",
       "</div>"
      ],
      "text/plain": [
       "      policyID statecode           county  eq_site_limit  hu_site_limit  \\\n",
       "5119    481615        FL  FRANKLIN COUNTY       262417.5       262417.5   \n",
       "5120    906547        FL  FRANKLIN COUNTY       240500.7       240500.7   \n",
       "5121    748767        FL  FRANKLIN COUNTY        81900.0        81900.0   \n",
       "5251    425957        FL  FRANKLIN COUNTY        38520.0        38520.0   \n",
       "5252    984289        FL  FRANKLIN COUNTY       481496.4       481496.4   \n",
       "\n",
       "      fl_site_limit  fr_site_limit  tiv_2011   tiv_2012  eq_site_deductible  \\\n",
       "5119       262417.5       262417.5  262417.5  296493.99                 0.0   \n",
       "5120       240500.7       240500.7  240500.7  182597.75                 0.0   \n",
       "5121        81900.0        81900.0   81900.0   90565.02                 0.0   \n",
       "5251        38520.0        38520.0   38520.0   42492.57                 0.0   \n",
       "5252            0.0            0.0  481496.4  566795.89                 0.0   \n",
       "\n",
       "      hu_site_deductible  fl_site_deductible  fr_site_deductible  \\\n",
       "5119                 0.0                 0.0                   0   \n",
       "5120                 0.0                 0.0                   0   \n",
       "5121                 0.0                 0.0                   0   \n",
       "5251                 0.0                 0.0                   0   \n",
       "5252                 0.0                 0.0                   0   \n",
       "\n",
       "      point_latitude  point_longitude         line construction  \\\n",
       "5119       29.726414       -84.985733  Residential         Wood   \n",
       "5120       29.726414       -84.985733  Residential         Wood   \n",
       "5121       29.726414       -84.985733  Residential         Wood   \n",
       "5251       29.735466       -84.882439  Residential         Wood   \n",
       "5252       29.663502       -84.865135  Residential      Masonry   \n",
       "\n",
       "      point_granularity  \n",
       "5119                  1  \n",
       "5120                  1  \n",
       "5121                  1  \n",
       "5251                  1  \n",
       "5252                  3  "
      ]
     },
     "execution_count": 7,
     "metadata": {},
     "output_type": "execute_result"
    }
   ],
   "source": [
    "Filter1 = TestSample_Dataframe.loc[(TestSample_Dataframe[\"county\"]==\"FRANKLIN COUNTY\") & (TestSample_Dataframe[\"eq_site_limit\"].gt(1.0))]\n",
    "Filter1"
   ]
  },
  {
   "cell_type": "markdown",
   "metadata": {},
   "source": [
    "Additional ways to filter, or clean out information, include manipulating only information on a subset of columns"
   ]
  },
  {
   "cell_type": "code",
   "execution_count": 8,
   "metadata": {
    "ExecuteTime": {
     "end_time": "2020-10-27T13:54:30.130082Z",
     "start_time": "2020-10-27T13:54:30.122088Z"
    }
   },
   "outputs": [
    {
     "data": {
      "text/html": [
       "<div>\n",
       "<style scoped>\n",
       "    .dataframe tbody tr th:only-of-type {\n",
       "        vertical-align: middle;\n",
       "    }\n",
       "\n",
       "    .dataframe tbody tr th {\n",
       "        vertical-align: top;\n",
       "    }\n",
       "\n",
       "    .dataframe thead th {\n",
       "        text-align: right;\n",
       "    }\n",
       "</style>\n",
       "<table border=\"1\" class=\"dataframe\">\n",
       "  <thead>\n",
       "    <tr style=\"text-align: right;\">\n",
       "      <th></th>\n",
       "      <th>policyID</th>\n",
       "      <th>statecode</th>\n",
       "      <th>county</th>\n",
       "      <th>eq_site_limit</th>\n",
       "    </tr>\n",
       "  </thead>\n",
       "  <tbody>\n",
       "    <tr>\n",
       "      <th>5119</th>\n",
       "      <td>481615</td>\n",
       "      <td>FL</td>\n",
       "      <td>FRANKLIN COUNTY</td>\n",
       "      <td>262417.5</td>\n",
       "    </tr>\n",
       "    <tr>\n",
       "      <th>5120</th>\n",
       "      <td>906547</td>\n",
       "      <td>FL</td>\n",
       "      <td>FRANKLIN COUNTY</td>\n",
       "      <td>240500.7</td>\n",
       "    </tr>\n",
       "    <tr>\n",
       "      <th>5121</th>\n",
       "      <td>748767</td>\n",
       "      <td>FL</td>\n",
       "      <td>FRANKLIN COUNTY</td>\n",
       "      <td>81900.0</td>\n",
       "    </tr>\n",
       "    <tr>\n",
       "      <th>5251</th>\n",
       "      <td>425957</td>\n",
       "      <td>FL</td>\n",
       "      <td>FRANKLIN COUNTY</td>\n",
       "      <td>38520.0</td>\n",
       "    </tr>\n",
       "    <tr>\n",
       "      <th>5252</th>\n",
       "      <td>984289</td>\n",
       "      <td>FL</td>\n",
       "      <td>FRANKLIN COUNTY</td>\n",
       "      <td>481496.4</td>\n",
       "    </tr>\n",
       "  </tbody>\n",
       "</table>\n",
       "</div>"
      ],
      "text/plain": [
       "      policyID statecode           county  eq_site_limit\n",
       "5119    481615        FL  FRANKLIN COUNTY       262417.5\n",
       "5120    906547        FL  FRANKLIN COUNTY       240500.7\n",
       "5121    748767        FL  FRANKLIN COUNTY        81900.0\n",
       "5251    425957        FL  FRANKLIN COUNTY        38520.0\n",
       "5252    984289        FL  FRANKLIN COUNTY       481496.4"
      ]
     },
     "execution_count": 8,
     "metadata": {},
     "output_type": "execute_result"
    }
   ],
   "source": [
    "Filter2=Filter1[[\"policyID\",\"statecode\",\"county\",\"eq_site_limit\"]]\n",
    "Filter2"
   ]
  },
  {
   "cell_type": "markdown",
   "metadata": {},
   "source": [
    "This subset of information is a copy of the original set, we are not editing the original dataframe here.\n",
    "\n",
    "If we continue editing this new dataframe extracted from the original, we might want to initialize a new column:"
   ]
  },
  {
   "cell_type": "code",
   "execution_count": 9,
   "metadata": {
    "ExecuteTime": {
     "end_time": "2020-10-27T13:54:30.162248Z",
     "start_time": "2020-10-27T13:54:30.131304Z"
    }
   },
   "outputs": [
    {
     "name": "stderr",
     "output_type": "stream",
     "text": [
      "<ipython-input-9-b59be7be1aac>:1: SettingWithCopyWarning: \n",
      "A value is trying to be set on a copy of a slice from a DataFrame.\n",
      "Try using .loc[row_indexer,col_indexer] = value instead\n",
      "\n",
      "See the caveats in the documentation: https://pandas.pydata.org/pandas-docs/stable/user_guide/indexing.html#returning-a-view-versus-a-copy\n",
      "  Filter2[\"newColumn\"] = \"\"\n"
     ]
    },
    {
     "data": {
      "text/html": [
       "<div>\n",
       "<style scoped>\n",
       "    .dataframe tbody tr th:only-of-type {\n",
       "        vertical-align: middle;\n",
       "    }\n",
       "\n",
       "    .dataframe tbody tr th {\n",
       "        vertical-align: top;\n",
       "    }\n",
       "\n",
       "    .dataframe thead th {\n",
       "        text-align: right;\n",
       "    }\n",
       "</style>\n",
       "<table border=\"1\" class=\"dataframe\">\n",
       "  <thead>\n",
       "    <tr style=\"text-align: right;\">\n",
       "      <th></th>\n",
       "      <th>policyID</th>\n",
       "      <th>statecode</th>\n",
       "      <th>county</th>\n",
       "      <th>eq_site_limit</th>\n",
       "      <th>newColumn</th>\n",
       "    </tr>\n",
       "  </thead>\n",
       "  <tbody>\n",
       "    <tr>\n",
       "      <th>5119</th>\n",
       "      <td>481615</td>\n",
       "      <td>FL</td>\n",
       "      <td>FRANKLIN COUNTY</td>\n",
       "      <td>262417.5</td>\n",
       "      <td></td>\n",
       "    </tr>\n",
       "    <tr>\n",
       "      <th>5120</th>\n",
       "      <td>906547</td>\n",
       "      <td>FL</td>\n",
       "      <td>FRANKLIN COUNTY</td>\n",
       "      <td>240500.7</td>\n",
       "      <td></td>\n",
       "    </tr>\n",
       "    <tr>\n",
       "      <th>5121</th>\n",
       "      <td>748767</td>\n",
       "      <td>FL</td>\n",
       "      <td>FRANKLIN COUNTY</td>\n",
       "      <td>81900.0</td>\n",
       "      <td></td>\n",
       "    </tr>\n",
       "    <tr>\n",
       "      <th>5251</th>\n",
       "      <td>425957</td>\n",
       "      <td>FL</td>\n",
       "      <td>FRANKLIN COUNTY</td>\n",
       "      <td>38520.0</td>\n",
       "      <td></td>\n",
       "    </tr>\n",
       "    <tr>\n",
       "      <th>5252</th>\n",
       "      <td>984289</td>\n",
       "      <td>FL</td>\n",
       "      <td>FRANKLIN COUNTY</td>\n",
       "      <td>481496.4</td>\n",
       "      <td></td>\n",
       "    </tr>\n",
       "  </tbody>\n",
       "</table>\n",
       "</div>"
      ],
      "text/plain": [
       "      policyID statecode           county  eq_site_limit newColumn\n",
       "5119    481615        FL  FRANKLIN COUNTY       262417.5          \n",
       "5120    906547        FL  FRANKLIN COUNTY       240500.7          \n",
       "5121    748767        FL  FRANKLIN COUNTY        81900.0          \n",
       "5251    425957        FL  FRANKLIN COUNTY        38520.0          \n",
       "5252    984289        FL  FRANKLIN COUNTY       481496.4          "
      ]
     },
     "execution_count": 9,
     "metadata": {},
     "output_type": "execute_result"
    }
   ],
   "source": [
    "Filter2[\"newColumn\"] = \"\"\n",
    "Filter2"
   ]
  },
  {
   "cell_type": "markdown",
   "metadata": {},
   "source": [
    "You might realize that the index in this new dataframe is the same index as the original dataframe. If we only want to manipulate the new dataframe, then we can easily reset the indexes."
   ]
  },
  {
   "cell_type": "code",
   "execution_count": 10,
   "metadata": {
    "ExecuteTime": {
     "end_time": "2020-10-27T13:54:30.180707Z",
     "start_time": "2020-10-27T13:54:30.163384Z"
    }
   },
   "outputs": [
    {
     "data": {
      "text/html": [
       "<div>\n",
       "<style scoped>\n",
       "    .dataframe tbody tr th:only-of-type {\n",
       "        vertical-align: middle;\n",
       "    }\n",
       "\n",
       "    .dataframe tbody tr th {\n",
       "        vertical-align: top;\n",
       "    }\n",
       "\n",
       "    .dataframe thead th {\n",
       "        text-align: right;\n",
       "    }\n",
       "</style>\n",
       "<table border=\"1\" class=\"dataframe\">\n",
       "  <thead>\n",
       "    <tr style=\"text-align: right;\">\n",
       "      <th></th>\n",
       "      <th>policyID</th>\n",
       "      <th>statecode</th>\n",
       "      <th>county</th>\n",
       "      <th>eq_site_limit</th>\n",
       "      <th>newColumn</th>\n",
       "    </tr>\n",
       "  </thead>\n",
       "  <tbody>\n",
       "    <tr>\n",
       "      <th>0</th>\n",
       "      <td>481615</td>\n",
       "      <td>FL</td>\n",
       "      <td>FRANKLIN COUNTY</td>\n",
       "      <td>262417.5</td>\n",
       "      <td></td>\n",
       "    </tr>\n",
       "    <tr>\n",
       "      <th>1</th>\n",
       "      <td>906547</td>\n",
       "      <td>FL</td>\n",
       "      <td>FRANKLIN COUNTY</td>\n",
       "      <td>240500.7</td>\n",
       "      <td></td>\n",
       "    </tr>\n",
       "    <tr>\n",
       "      <th>2</th>\n",
       "      <td>748767</td>\n",
       "      <td>FL</td>\n",
       "      <td>FRANKLIN COUNTY</td>\n",
       "      <td>81900.0</td>\n",
       "      <td></td>\n",
       "    </tr>\n",
       "    <tr>\n",
       "      <th>3</th>\n",
       "      <td>425957</td>\n",
       "      <td>FL</td>\n",
       "      <td>FRANKLIN COUNTY</td>\n",
       "      <td>38520.0</td>\n",
       "      <td></td>\n",
       "    </tr>\n",
       "    <tr>\n",
       "      <th>4</th>\n",
       "      <td>984289</td>\n",
       "      <td>FL</td>\n",
       "      <td>FRANKLIN COUNTY</td>\n",
       "      <td>481496.4</td>\n",
       "      <td></td>\n",
       "    </tr>\n",
       "    <tr>\n",
       "      <th>5</th>\n",
       "      <td>481615</td>\n",
       "      <td>FL</td>\n",
       "      <td>FRANKLIN COUNTY</td>\n",
       "      <td>262417.5</td>\n",
       "      <td></td>\n",
       "    </tr>\n",
       "    <tr>\n",
       "      <th>6</th>\n",
       "      <td>906547</td>\n",
       "      <td>FL</td>\n",
       "      <td>FRANKLIN COUNTY</td>\n",
       "      <td>240500.7</td>\n",
       "      <td></td>\n",
       "    </tr>\n",
       "  </tbody>\n",
       "</table>\n",
       "</div>"
      ],
      "text/plain": [
       "   policyID statecode           county  eq_site_limit newColumn\n",
       "0    481615        FL  FRANKLIN COUNTY       262417.5          \n",
       "1    906547        FL  FRANKLIN COUNTY       240500.7          \n",
       "2    748767        FL  FRANKLIN COUNTY        81900.0          \n",
       "3    425957        FL  FRANKLIN COUNTY        38520.0          \n",
       "4    984289        FL  FRANKLIN COUNTY       481496.4          \n",
       "5    481615        FL  FRANKLIN COUNTY       262417.5          \n",
       "6    906547        FL  FRANKLIN COUNTY       240500.7          "
      ]
     },
     "execution_count": 10,
     "metadata": {},
     "output_type": "execute_result"
    }
   ],
   "source": [
    "Filter2.append(Filter2[:2],ignore_index=True)"
   ]
  },
  {
   "cell_type": "code",
   "execution_count": 11,
   "metadata": {
    "ExecuteTime": {
     "end_time": "2020-10-27T13:54:30.240627Z",
     "start_time": "2020-10-27T13:54:30.181797Z"
    }
   },
   "outputs": [],
   "source": [
    "%reset -f"
   ]
  },
  {
   "cell_type": "code",
   "execution_count": 12,
   "metadata": {
    "ExecuteTime": {
     "end_time": "2020-10-27T13:54:30.256701Z",
     "start_time": "2020-10-27T13:54:30.242103Z"
    }
   },
   "outputs": [],
   "source": [
    "import pandas as pd"
   ]
  }
 ],
 "metadata": {
  "hide_input": false,
  "kernelspec": {
   "display_name": "Python 3",
   "language": "python",
   "name": "python3"
  },
  "language_info": {
   "codemirror_mode": {
    "name": "ipython",
    "version": 3
   },
   "file_extension": ".py",
   "mimetype": "text/x-python",
   "name": "python",
   "nbconvert_exporter": "python",
   "pygments_lexer": "ipython3",
   "version": "3.8.2"
  }
 },
 "nbformat": 4,
 "nbformat_minor": 2
}
